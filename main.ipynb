{
 "cells": [
  {
   "cell_type": "markdown",
   "source": [
    "# 输入数据处理"
   ],
   "metadata": {
    "collapsed": false
   }
  },
  {
   "cell_type": "code",
   "execution_count": 9,
   "outputs": [],
   "source": [
    "min_per_step = 60"
   ],
   "metadata": {
    "collapsed": false
   }
  },
  {
   "cell_type": "markdown",
   "source": [
    "## 合并od_dis_table"
   ],
   "metadata": {
    "collapsed": false
   }
  },
  {
   "cell_type": "code",
   "execution_count": null,
   "outputs": [],
   "source": [
    "import pandas as pd\n",
    "od_dis_table = pd.read_csv('data/od_dis_table.csv')\n",
    "# 合并列表\n",
    "od_merge_table = od_dis_table.groupby(['station_id_x', 'station_id_y']).agg(\n",
    "    {'edge_id': list, 'cumsumlength': list}).reset_index()\n",
    "# od_merge_table.to_csv('input/od_merged_table.csv')\n",
    "\n",
    "# cumsumlength处理\n",
    "def calculate_differences(lst):\n",
    "    differences = [lst[i] - lst[i - 1] for i in range(1, len(lst))]\n",
    "    return [lst[0]] + differences\n",
    "od_merge_table['cumsumlength'] = od_merge_table['cumsumlength'].apply(eval).apply(calculate_differences)\n",
    "\n",
    "od_merge_table.to_csv('input/new_od_dis.csv')\n",
    "od_merge_table"
   ],
   "metadata": {
    "collapsed": false
   }
  },
  {
   "cell_type": "markdown",
   "source": [
    "## 生成od_count"
   ],
   "metadata": {
    "collapsed": false
   }
  },
  {
   "cell_type": "code",
   "execution_count": 2,
   "outputs": [
    {
     "name": "stdout",
     "output_type": "stream",
     "text": [
      "总共有agent:50307\n"
     ]
    },
    {
     "data": {
      "text/plain": "         O    D  count        date\n0        0    1      1  2023-09-03\n1        0    3      2  2023-09-03\n2        0    4      5  2023-09-03\n3        0    5      2  2023-09-03\n4        0    6      1  2023-09-03\n...    ...  ...    ...         ...\n33707  366  315      1  2023-09-03\n33708  366  337      1  2023-09-03\n33709  366  345      1  2023-09-03\n33710  366  349      1  2023-09-03\n33711  366  352      1  2023-09-03\n\n[33712 rows x 4 columns]",
      "text/html": "<div>\n<style scoped>\n    .dataframe tbody tr th:only-of-type {\n        vertical-align: middle;\n    }\n\n    .dataframe tbody tr th {\n        vertical-align: top;\n    }\n\n    .dataframe thead th {\n        text-align: right;\n    }\n</style>\n<table border=\"1\" class=\"dataframe\">\n  <thead>\n    <tr style=\"text-align: right;\">\n      <th></th>\n      <th>O</th>\n      <th>D</th>\n      <th>count</th>\n      <th>date</th>\n    </tr>\n  </thead>\n  <tbody>\n    <tr>\n      <th>0</th>\n      <td>0</td>\n      <td>1</td>\n      <td>1</td>\n      <td>2023-09-03</td>\n    </tr>\n    <tr>\n      <th>1</th>\n      <td>0</td>\n      <td>3</td>\n      <td>2</td>\n      <td>2023-09-03</td>\n    </tr>\n    <tr>\n      <th>2</th>\n      <td>0</td>\n      <td>4</td>\n      <td>5</td>\n      <td>2023-09-03</td>\n    </tr>\n    <tr>\n      <th>3</th>\n      <td>0</td>\n      <td>5</td>\n      <td>2</td>\n      <td>2023-09-03</td>\n    </tr>\n    <tr>\n      <th>4</th>\n      <td>0</td>\n      <td>6</td>\n      <td>1</td>\n      <td>2023-09-03</td>\n    </tr>\n    <tr>\n      <th>...</th>\n      <td>...</td>\n      <td>...</td>\n      <td>...</td>\n      <td>...</td>\n    </tr>\n    <tr>\n      <th>33707</th>\n      <td>366</td>\n      <td>315</td>\n      <td>1</td>\n      <td>2023-09-03</td>\n    </tr>\n    <tr>\n      <th>33708</th>\n      <td>366</td>\n      <td>337</td>\n      <td>1</td>\n      <td>2023-09-03</td>\n    </tr>\n    <tr>\n      <th>33709</th>\n      <td>366</td>\n      <td>345</td>\n      <td>1</td>\n      <td>2023-09-03</td>\n    </tr>\n    <tr>\n      <th>33710</th>\n      <td>366</td>\n      <td>349</td>\n      <td>1</td>\n      <td>2023-09-03</td>\n    </tr>\n    <tr>\n      <th>33711</th>\n      <td>366</td>\n      <td>352</td>\n      <td>1</td>\n      <td>2023-09-03</td>\n    </tr>\n  </tbody>\n</table>\n<p>33712 rows × 4 columns</p>\n</div>"
     },
     "execution_count": 2,
     "metadata": {},
     "output_type": "execute_result"
    }
   ],
   "source": [
    "import random\n",
    "from datetime import date, timedelta\n",
    "import pandas as pd\n",
    "\n",
    "# 定义数据范围\n",
    "random.seed(0)\n",
    "\n",
    "od_cnt = 50500  # 共生成多少种od\n",
    "# 假设您的概率列表是一个名为 o_prob 的 DataFrame，包含 \"index\" 和 \"probability\" 两列\n",
    "o_prob = pd.read_csv('input/O_prob.csv')\n",
    "# 重构 O_values\n",
    "O_values = random.choices(o_prob[\"station_id\"], o_prob[\"prob\"], k=od_cnt)\n",
    "# 重构 D_values\n",
    "D_values = random.choices(o_prob[\"station_id\"], o_prob[\"prob\"], k=od_cnt)\n",
    "# 重构 prob\n",
    "prob = random.choices(o_prob[\"prob\"], k=od_cnt)\n",
    "\n",
    "# 创建 DataFrame\n",
    "od3 = pd.DataFrame({\n",
    "    \"O\": O_values,\n",
    "    \"D\": D_values,\n",
    "    \"prob\": prob\n",
    "})\n",
    "od3 = od3[od3[\"O\"] != od3[\"D\"]]\n",
    "od3 = od3.groupby([\"O\", \"D\"]).size().reset_index(name=\"count\")\n",
    "od3['date'] = date(2023, 9, 3)\n",
    "\n",
    "od3.to_csv('input/od_3.csv')\n",
    "print(f'总共有agent:{od3[\"count\"].sum()}')\n",
    "od3"
   ],
   "metadata": {
    "collapsed": false
   }
  },
  {
   "cell_type": "markdown",
   "source": [
    "## 概率处理"
   ],
   "metadata": {
    "collapsed": false
   }
  },
  {
   "cell_type": "code",
   "execution_count": 10,
   "outputs": [
    {
     "data": {
      "text/plain": "<Figure size 640x480 with 1 Axes>",
      "image/png": "[encoded data removed]"
     },
     "metadata": {},
     "output_type": "display_data"
    },
    {
     "data": {
      "text/plain": "    Unnamed: 0  hour      prob  step_prob  step\n0            0     0  0.019735   0.019735     0\n1            1     1  0.010700   0.010700     1\n2            2     2  0.007490   0.007490     2\n3            3     3  0.005867   0.005867     3\n4            4     4  0.005396   0.005396     4\n5            5     5  0.007737   0.007737     5\n6            6     6  0.018353   0.018353     6\n7            7     7  0.046992   0.046992     7\n8            8     8  0.081476   0.081476     8\n9            9     9  0.085920   0.085920     9\n10          10    10  0.056655   0.056655    10\n11          11    11  0.046892   0.046892    11\n12          12    12  0.046639   0.046639    12\n13          13    13  0.047411   0.047411    13\n14          14    14  0.046755   0.046755    14\n15          15    15  0.046180   0.046180    15\n16          16    16  0.048697   0.048697    16\n17          17    17  0.060372   0.060372    17\n18          18    18  0.071863   0.071863    18\n19          19    19  0.068241   0.068241    19\n20          20    20  0.055044   0.055044    20\n21          21    21  0.047997   0.047997    21\n22          22    22  0.038818   0.038818    22\n23          23    23  0.028770   0.028770    23",
      "text/html": "<div>\n<style scoped>\n    .dataframe tbody tr th:only-of-type {\n        vertical-align: middle;\n    }\n\n    .dataframe tbody tr th {\n        vertical-align: top;\n    }\n\n    .dataframe thead th {\n        text-align: right;\n    }\n</style>\n<table border=\"1\" class=\"dataframe\">\n  <thead>\n    <tr style=\"text-align: right;\">\n      <th></th>\n      <th>Unnamed: 0</th>\n      <th>hour</th>\n      <th>prob</th>\n      <th>step_prob</th>\n      <th>step</th>\n    </tr>\n  </thead>\n  <tbody>\n    <tr>\n      <th>0</th>\n      <td>0</td>\n      <td>0</td>\n      <td>0.019735</td>\n      <td>0.019735</td>\n      <td>0</td>\n    </tr>\n    <tr>\n      <th>1</th>\n      <td>1</td>\n      <td>1</td>\n      <td>0.010700</td>\n      <td>0.010700</td>\n      <td>1</td>\n    </tr>\n    <tr>\n      <th>2</th>\n      <td>2</td>\n      <td>2</td>\n      <td>0.007490</td>\n      <td>0.007490</td>\n      <td>2</td>\n    </tr>\n    <tr>\n      <th>3</th>\n      <td>3</td>\n      <td>3</td>\n      <td>0.005867</td>\n      <td>0.005867</td>\n      <td>3</td>\n    </tr>\n    <tr>\n      <th>4</th>\n      <td>4</td>\n      <td>4</td>\n      <td>0.005396</td>\n      <td>0.005396</td>\n      <td>4</td>\n    </tr>\n    <tr>\n      <th>5</th>\n      <td>5</td>\n      <td>5</td>\n      <td>0.007737</td>\n      <td>0.007737</td>\n      <td>5</td>\n    </tr>\n    <tr>\n      <th>6</th>\n      <td>6</td>\n      <td>6</td>\n      <td>0.018353</td>\n      <td>0.018353</td>\n      <td>6</td>\n    </tr>\n    <tr>\n      <th>7</th>\n      <td>7</td>\n      <td>7</td>\n      <td>0.046992</td>\n      <td>0.046992</td>\n      <td>7</td>\n    </tr>\n    <tr>\n      <th>8</th>\n      <td>8</td>\n      <td>8</td>\n      <td>0.081476</td>\n      <td>0.081476</td>\n      <td>8</td>\n    </tr>\n    <tr>\n      <th>9</th>\n      <td>9</td>\n      <td>9</td>\n      <td>0.085920</td>\n      <td>0.085920</td>\n      <td>9</td>\n    </tr>\n    <tr>\n      <th>10</th>\n      <td>10</td>\n      <td>10</td>\n      <td>0.056655</td>\n      <td>0.056655</td>\n      <td>10</td>\n    </tr>\n    <tr>\n      <th>11</th>\n      <td>11</td>\n      <td>11</td>\n      <td>0.046892</td>\n      <td>0.046892</td>\n      <td>11</td>\n    </tr>\n    <tr>\n      <th>12</th>\n      <td>12</td>\n      <td>12</td>\n      <td>0.046639</td>\n      <td>0.046639</td>\n      <td>12</td>\n    </tr>\n    <tr>\n      <th>13</th>\n      <td>13</td>\n      <td>13</td>\n      <td>0.047411</td>\n      <td>0.047411</td>\n      <td>13</td>\n    </tr>\n    <tr>\n      <th>14</th>\n      <td>14</td>\n      <td>14</td>\n      <td>0.046755</td>\n      <td>0.046755</td>\n      <td>14</td>\n    </tr>\n    <tr>\n      <th>15</th>\n      <td>15</td>\n      <td>15</td>\n      <td>0.046180</td>\n      <td>0.046180</td>\n      <td>15</td>\n    </tr>\n    <tr>\n      <th>16</th>\n      <td>16</td>\n      <td>16</td>\n      <td>0.048697</td>\n      <td>0.048697</td>\n      <td>16</td>\n    </tr>\n    <tr>\n      <th>17</th>\n      <td>17</td>\n      <td>17</td>\n      <td>0.060372</td>\n      <td>0.060372</td>\n      <td>17</td>\n    </tr>\n    <tr>\n      <th>18</th>\n      <td>18</td>\n      <td>18</td>\n      <td>0.071863</td>\n      <td>0.071863</td>\n      <td>18</td>\n    </tr>\n    <tr>\n      <th>19</th>\n      <td>19</td>\n      <td>19</td>\n      <td>0.068241</td>\n      <td>0.068241</td>\n      <td>19</td>\n    </tr>\n    <tr>\n      <th>20</th>\n      <td>20</td>\n      <td>20</td>\n      <td>0.055044</td>\n      <td>0.055044</td>\n      <td>20</td>\n    </tr>\n    <tr>\n      <th>21</th>\n      <td>21</td>\n      <td>21</td>\n      <td>0.047997</td>\n      <td>0.047997</td>\n      <td>21</td>\n    </tr>\n    <tr>\n      <th>22</th>\n      <td>22</td>\n      <td>22</td>\n      <td>0.038818</td>\n      <td>0.038818</td>\n      <td>22</td>\n    </tr>\n    <tr>\n      <th>23</th>\n      <td>23</td>\n      <td>23</td>\n      <td>0.028770</td>\n      <td>0.028770</td>\n      <td>23</td>\n    </tr>\n  </tbody>\n</table>\n</div>"
     },
     "execution_count": 10,
     "metadata": {},
     "output_type": "execute_result"
    }
   ],
   "source": [
    "import pandas as pd\n",
    "import numpy as np\n",
    "import matplotlib.pyplot as plt\n",
    "\n",
    "df = pd.read_csv('input/travel_hour_prob.csv')\n",
    "# 假设您已经有了一个名为 df 的 DataFrame，包含 \"hour\" 和 \"prob\" 列，\n",
    "# 其中 \"hour\" 是小时（0-23），\"prob\" 是对应的概率值\n",
    "step_per_hour = int(60/min_per_step)\n",
    "step_cnt = int(1440/min_per_step)\n",
    "\n",
    "# 创建一个图形和一个坐标轴\n",
    "fig, ax = plt.subplots()\n",
    "\n",
    "# 将概率分布进行归一化\n",
    "total_prob = df['prob'].sum()\n",
    "df['prob'] = df['prob'] / total_prob\n",
    "\n",
    "# 计算每个步骤的概率值\n",
    "df['step_prob'] = df['prob'] / step_per_hour\n",
    "\n",
    "# 重复概率值以填充144个步骤\n",
    "df_expanded = df.loc[np.repeat(df.index.values, step_per_hour)].reset_index(drop=True)\n",
    "\n",
    "# 绘制概率分布曲线\n",
    "ax.plot(df_expanded['step_prob'], color='blue')\n",
    "ax.set_xlabel('Step')\n",
    "ax.set_ylabel('prob')\n",
    "\n",
    "# 显示图形\n",
    "plt.show()\n",
    "\n",
    "# 创建一个包含 144 个步骤的 DataFrame\n",
    "df_expanded2 = pd.DataFrame({'step': range(step_cnt)})\n",
    "df_expanded['step']=df_expanded2\n",
    "df_expanded.to_csv('input/prob.csv')\n",
    "df_expanded"
   ],
   "metadata": {
    "collapsed": false
   }
  },
  {
   "cell_type": "markdown",
   "source": [
    "## 生成trip_id"
   ],
   "metadata": {
    "collapsed": false
   }
  },
  {
   "cell_type": "code",
   "execution_count": 24,
   "outputs": [
    {
     "data": {
      "text/plain": "          trip_id     id    O    D        date  start_step\n0        1-156-98      0  156   98  2023-09-01          20\n1        2-156-98      1  156   98  2023-09-01          18\n2        3-156-98      2  156   98  2023-09-01          12\n3        4-156-98      3  156   98  2023-09-01           9\n4        5-156-98      4  156   98  2023-09-01          14\n...           ...    ...  ...  ...         ...         ...\n14439  16-126-130  14312  126  130  2023-09-01          10\n14440  17-126-130  14313  126  130  2023-09-01          20\n14441  18-126-130  14314  126  130  2023-09-01           9\n14442  19-126-130  14315  126  130  2023-09-01           9\n14443  20-126-130  14316  126  130  2023-09-01          14\n\n[14444 rows x 6 columns]",
      "text/html": "<div>\n<style scoped>\n    .dataframe tbody tr th:only-of-type {\n        vertical-align: middle;\n    }\n\n    .dataframe tbody tr th {\n        vertical-align: top;\n    }\n\n    .dataframe thead th {\n        text-align: right;\n    }\n</style>\n<table border=\"1\" class=\"dataframe\">\n  <thead>\n    <tr style=\"text-align: right;\">\n      <th></th>\n      <th>trip_id</th>\n      <th>id</th>\n      <th>O</th>\n      <th>D</th>\n      <th>date</th>\n      <th>start_step</th>\n    </tr>\n  </thead>\n  <tbody>\n    <tr>\n      <th>0</th>\n      <td>1-156-98</td>\n      <td>0</td>\n      <td>156</td>\n      <td>98</td>\n      <td>2023-09-01</td>\n      <td>20</td>\n    </tr>\n    <tr>\n      <th>1</th>\n      <td>2-156-98</td>\n      <td>1</td>\n      <td>156</td>\n      <td>98</td>\n      <td>2023-09-01</td>\n      <td>18</td>\n    </tr>\n    <tr>\n      <th>2</th>\n      <td>3-156-98</td>\n      <td>2</td>\n      <td>156</td>\n      <td>98</td>\n      <td>2023-09-01</td>\n      <td>12</td>\n    </tr>\n    <tr>\n      <th>3</th>\n      <td>4-156-98</td>\n      <td>3</td>\n      <td>156</td>\n      <td>98</td>\n      <td>2023-09-01</td>\n      <td>9</td>\n    </tr>\n    <tr>\n      <th>4</th>\n      <td>5-156-98</td>\n      <td>4</td>\n      <td>156</td>\n      <td>98</td>\n      <td>2023-09-01</td>\n      <td>14</td>\n    </tr>\n    <tr>\n      <th>...</th>\n      <td>...</td>\n      <td>...</td>\n      <td>...</td>\n      <td>...</td>\n      <td>...</td>\n      <td>...</td>\n    </tr>\n    <tr>\n      <th>14439</th>\n      <td>16-126-130</td>\n      <td>14312</td>\n      <td>126</td>\n      <td>130</td>\n      <td>2023-09-01</td>\n      <td>10</td>\n    </tr>\n    <tr>\n      <th>14440</th>\n      <td>17-126-130</td>\n      <td>14313</td>\n      <td>126</td>\n      <td>130</td>\n      <td>2023-09-01</td>\n      <td>20</td>\n    </tr>\n    <tr>\n      <th>14441</th>\n      <td>18-126-130</td>\n      <td>14314</td>\n      <td>126</td>\n      <td>130</td>\n      <td>2023-09-01</td>\n      <td>9</td>\n    </tr>\n    <tr>\n      <th>14442</th>\n      <td>19-126-130</td>\n      <td>14315</td>\n      <td>126</td>\n      <td>130</td>\n      <td>2023-09-01</td>\n      <td>9</td>\n    </tr>\n    <tr>\n      <th>14443</th>\n      <td>20-126-130</td>\n      <td>14316</td>\n      <td>126</td>\n      <td>130</td>\n      <td>2023-09-01</td>\n      <td>14</td>\n    </tr>\n  </tbody>\n</table>\n<p>14444 rows × 6 columns</p>\n</div>"
     },
     "execution_count": 24,
     "metadata": {},
     "output_type": "execute_result"
    }
   ],
   "source": [
    "import csv\n",
    "import random\n",
    "\n",
    "# agent_data = pd.read_csv('input/od_origin.csv')\n",
    "random.seed(0)\n",
    "\n",
    "agent_data = pd.read_csv('input/od_2.csv')\n",
    "prob = pd.read_csv('input/prob.csv')\n",
    "\n",
    "# 生成 trip_id 列\n",
    "trip_ids = []\n",
    "for _, row in agent_data.iterrows():\n",
    "    o = row['O']\n",
    "    d = row['D']\n",
    "    count = row['count']\n",
    "    date = row['date']\n",
    "\n",
    "    for i in range(1, count + 1):\n",
    "        trip_id = f\"{i}-{o}-{d}\"\n",
    "        trip_ids.append(trip_id)\n",
    "\n",
    "agent_data = pd.DataFrame(trip_ids, columns=['trip_id'])\n",
    "agent_data['O'] = agent_data['trip_id'].apply(lambda x: int(x.split('-')[1]))\n",
    "agent_data['D'] = agent_data['trip_id'].apply(lambda x: int(x.split('-')[2]))\n",
    "agent_data['date'] = date\n",
    "start_steps = random.choices(prob[\"step\"], prob[\"step_prob\"], k=agent_data.shape[0])\n",
    "agent_data['start_step'] = start_steps\n",
    "agent_data['id'], _ = pd.factorize(agent_data['trip_id'])\n",
    "\n",
    "# 重新排列列的顺序\n",
    "agent_data = agent_data[['trip_id', 'id', 'O', 'D', 'date', 'start_step']]\n",
    "\n",
    "agent_data.to_csv('input/od_to_trip_id2.csv')\n",
    "\n",
    "agent_data"
   ],
   "metadata": {
    "collapsed": false
   }
  },
  {
   "cell_type": "markdown",
   "source": [
    "# 代理类"
   ],
   "metadata": {
    "collapsed": false
   }
  },
  {
   "cell_type": "code",
   "execution_count": 25,
   "outputs": [
    {
     "name": "stdout",
     "output_type": "stream",
     "text": [
      "start_time:1696741157.453155\n",
      "读入OD数据需要时间：6.31秒\n",
      "初始化时间：25.81秒\n",
      "now_step:0\n"
     ]
    },
    {
     "ename": "TypeError",
     "evalue": "process_car() takes 1 positional argument but 2 were given",
     "output_type": "error",
     "traceback": [
      "\u001B[0;31m---------------------------------------------------------------------------\u001B[0m",
      "\u001B[0;31mTypeError\u001B[0m                                 Traceback (most recent call last)",
      "Cell \u001B[0;32mIn[25], line 353\u001B[0m\n\u001B[1;32m    351\u001B[0m     futures \u001B[38;5;241m=\u001B[39m [executor\u001B[38;5;241m.\u001B[39msubmit(process_car, trip_id, car) \u001B[38;5;28;01mfor\u001B[39;00m trip_id, car \u001B[38;5;129;01min\u001B[39;00m car_in_highway\u001B[38;5;241m.\u001B[39mitems()]\n\u001B[1;32m    352\u001B[0m     \u001B[38;5;66;03m# 获取结果（可选）\u001B[39;00m\n\u001B[0;32m--> 353\u001B[0m     results \u001B[38;5;241m=\u001B[39m [future\u001B[38;5;241m.\u001B[39mresult() \u001B[38;5;28;01mfor\u001B[39;00m future \u001B[38;5;129;01min\u001B[39;00m futures]\n\u001B[1;32m    355\u001B[0m \u001B[38;5;66;03m# 创建一个临时的字典用于存储要删除的元素\u001B[39;00m\n\u001B[1;32m    356\u001B[0m cars_to_delete \u001B[38;5;241m=\u001B[39m {}\n",
      "Cell \u001B[0;32mIn[25], line 353\u001B[0m, in \u001B[0;36m<listcomp>\u001B[0;34m(.0)\u001B[0m\n\u001B[1;32m    351\u001B[0m     futures \u001B[38;5;241m=\u001B[39m [executor\u001B[38;5;241m.\u001B[39msubmit(process_car, trip_id, car) \u001B[38;5;28;01mfor\u001B[39;00m trip_id, car \u001B[38;5;129;01min\u001B[39;00m car_in_highway\u001B[38;5;241m.\u001B[39mitems()]\n\u001B[1;32m    352\u001B[0m     \u001B[38;5;66;03m# 获取结果（可选）\u001B[39;00m\n\u001B[0;32m--> 353\u001B[0m     results \u001B[38;5;241m=\u001B[39m [\u001B[43mfuture\u001B[49m\u001B[38;5;241;43m.\u001B[39;49m\u001B[43mresult\u001B[49m\u001B[43m(\u001B[49m\u001B[43m)\u001B[49m \u001B[38;5;28;01mfor\u001B[39;00m future \u001B[38;5;129;01min\u001B[39;00m futures]\n\u001B[1;32m    355\u001B[0m \u001B[38;5;66;03m# 创建一个临时的字典用于存储要删除的元素\u001B[39;00m\n\u001B[1;32m    356\u001B[0m cars_to_delete \u001B[38;5;241m=\u001B[39m {}\n",
      "File \u001B[0;32m~/anaconda3/lib/python3.10/concurrent/futures/_base.py:451\u001B[0m, in \u001B[0;36mFuture.result\u001B[0;34m(self, timeout)\u001B[0m\n\u001B[1;32m    449\u001B[0m     \u001B[38;5;28;01mraise\u001B[39;00m CancelledError()\n\u001B[1;32m    450\u001B[0m \u001B[38;5;28;01melif\u001B[39;00m \u001B[38;5;28mself\u001B[39m\u001B[38;5;241m.\u001B[39m_state \u001B[38;5;241m==\u001B[39m FINISHED:\n\u001B[0;32m--> 451\u001B[0m     \u001B[38;5;28;01mreturn\u001B[39;00m \u001B[38;5;28;43mself\u001B[39;49m\u001B[38;5;241;43m.\u001B[39;49m\u001B[43m__get_result\u001B[49m\u001B[43m(\u001B[49m\u001B[43m)\u001B[49m\n\u001B[1;32m    453\u001B[0m \u001B[38;5;28mself\u001B[39m\u001B[38;5;241m.\u001B[39m_condition\u001B[38;5;241m.\u001B[39mwait(timeout)\n\u001B[1;32m    455\u001B[0m \u001B[38;5;28;01mif\u001B[39;00m \u001B[38;5;28mself\u001B[39m\u001B[38;5;241m.\u001B[39m_state \u001B[38;5;129;01min\u001B[39;00m [CANCELLED, CANCELLED_AND_NOTIFIED]:\n",
      "File \u001B[0;32m~/anaconda3/lib/python3.10/concurrent/futures/_base.py:403\u001B[0m, in \u001B[0;36mFuture.__get_result\u001B[0;34m(self)\u001B[0m\n\u001B[1;32m    401\u001B[0m \u001B[38;5;28;01mif\u001B[39;00m \u001B[38;5;28mself\u001B[39m\u001B[38;5;241m.\u001B[39m_exception:\n\u001B[1;32m    402\u001B[0m     \u001B[38;5;28;01mtry\u001B[39;00m:\n\u001B[0;32m--> 403\u001B[0m         \u001B[38;5;28;01mraise\u001B[39;00m \u001B[38;5;28mself\u001B[39m\u001B[38;5;241m.\u001B[39m_exception\n\u001B[1;32m    404\u001B[0m     \u001B[38;5;28;01mfinally\u001B[39;00m:\n\u001B[1;32m    405\u001B[0m         \u001B[38;5;66;03m# Break a reference cycle with the exception in self._exception\u001B[39;00m\n\u001B[1;32m    406\u001B[0m         \u001B[38;5;28mself\u001B[39m \u001B[38;5;241m=\u001B[39m \u001B[38;5;28;01mNone\u001B[39;00m\n",
      "File \u001B[0;32m~/anaconda3/lib/python3.10/concurrent/futures/thread.py:58\u001B[0m, in \u001B[0;36m_WorkItem.run\u001B[0;34m(self)\u001B[0m\n\u001B[1;32m     55\u001B[0m     \u001B[38;5;28;01mreturn\u001B[39;00m\n\u001B[1;32m     57\u001B[0m \u001B[38;5;28;01mtry\u001B[39;00m:\n\u001B[0;32m---> 58\u001B[0m     result \u001B[38;5;241m=\u001B[39m \u001B[38;5;28;43mself\u001B[39;49m\u001B[38;5;241;43m.\u001B[39;49m\u001B[43mfn\u001B[49m\u001B[43m(\u001B[49m\u001B[38;5;241;43m*\u001B[39;49m\u001B[38;5;28;43mself\u001B[39;49m\u001B[38;5;241;43m.\u001B[39;49m\u001B[43margs\u001B[49m\u001B[43m,\u001B[49m\u001B[43m \u001B[49m\u001B[38;5;241;43m*\u001B[39;49m\u001B[38;5;241;43m*\u001B[39;49m\u001B[38;5;28;43mself\u001B[39;49m\u001B[38;5;241;43m.\u001B[39;49m\u001B[43mkwargs\u001B[49m\u001B[43m)\u001B[49m\n\u001B[1;32m     59\u001B[0m \u001B[38;5;28;01mexcept\u001B[39;00m \u001B[38;5;167;01mBaseException\u001B[39;00m \u001B[38;5;28;01mas\u001B[39;00m exc:\n\u001B[1;32m     60\u001B[0m     \u001B[38;5;28mself\u001B[39m\u001B[38;5;241m.\u001B[39mfuture\u001B[38;5;241m.\u001B[39mset_exception(exc)\n",
      "\u001B[0;31mTypeError\u001B[0m: process_car() takes 1 positional argument but 2 were given"
     ]
    }
   ],
   "source": [
    "from concurrent.futures import ThreadPoolExecutor\n",
    "import random\n",
    "import time\n",
    "import ast\n",
    "import geopandas as gpd\n",
    "import pandas as pd\n",
    "\n",
    "# 记录开始时间\n",
    "start_time = time.time()\n",
    "print(f'start_time:{start_time}')\n",
    "time_list = []\n",
    "time_list.append(start_time)\n",
    "\n",
    "\n",
    "class CarAgent:\n",
    "\n",
    "    def __init__(self, trip_id, o, d,\n",
    "                 edge_ids,\n",
    "                 cumsum_lengths,\n",
    "                 start_step,\n",
    "                 allstep,\n",
    "                 energy_consumption_per_step,\n",
    "                 charging_amount_per_step,\n",
    "                 speed,\n",
    "                 init_charge,\n",
    "                 find_station_dis,  # 低于这个距离代表可以直接进入充电状态，否则继续行驶\n",
    "                 charging_threshold,\n",
    "                 max_charging_threshold,  # 充电到高于这个电量就开始行驶\n",
    "                 date):\n",
    "\n",
    "        # 和初始化相关的参数\n",
    "        self.trip_id = trip_id\n",
    "        self.o = o\n",
    "        self.d = d\n",
    "        self.edge_ids = edge_ids,\n",
    "        self.cumsum_lengths = cumsum_lengths,\n",
    "        # step\n",
    "        self.allstep = allstep  # 该代理模拟的步数\n",
    "        self.step = 0\n",
    "        self.start_step = start_step  # 暂定为每个step代表15min\n",
    "        # state\n",
    "        self.energy_consumption_per_step = energy_consumption_per_step\n",
    "        self.charging_amount_per_step = charging_amount_per_step\n",
    "        self.date = date  # 日期\n",
    "        self.charge = init_charge  # 初始电量,以后取一个正太分布\n",
    "        self.speed = speed  # 每一个step能走多少距离 单位是km\n",
    "        self.find_station_dis = find_station_dis  # 多近充电站可以直接去 单位m\n",
    "        self.charging_threshold = charging_threshold  # 充电阈值，低于阈值开始进入寻找充电站的函数\n",
    "        self.max_charging_threshold = max_charging_threshold  # 充电阈值，大于阈值离开充电站\n",
    "\n",
    "        # other parameters\n",
    "        self.current_node = o\n",
    "        self.destination_node = d\n",
    "        self.state = 1  # 1是行驶中，0是充电中\n",
    "        self.current_edge_id = -1  # 当前所处的边ID\n",
    "        self.edge_index = 0  # 记录当前行驶的边在边列表中的索引\n",
    "        self.current_position_on_edge = 0  # 记录当前行驶边的累计长度\n",
    "        self.current_sum_length = 0  # 记录当前行驶边长度\n",
    "        # df\n",
    "        self.car_df = self.create_car_dataframe()\n",
    "\n",
    "    # utils\n",
    "    def charging_per_step(self, station_agent):\n",
    "        if self.charge < 85 and self.state == 0:\n",
    "            self.charge += charging_amount_per_step\n",
    "            station_agent.charging_demand += charging_amount_per_step\n",
    "            if self.charge > 100:  # 减去多充的电\n",
    "                station_agent.charging_demand -= self.charge - 100\n",
    "                self.charge = 100\n",
    "        else:\n",
    "            self.state = 1\n",
    "\n",
    "    def create_car_dataframe(self):\n",
    "        if self.current_node == self.d:\n",
    "            remain = 0\n",
    "        else:\n",
    "            remain = max(0, self.current_sum_length - self.current_position_on_edge)\n",
    "        output_data = {\n",
    "            'trip_id': self.trip_id,\n",
    "            'step': self.step,\n",
    "            'start_step': self.start_step,\n",
    "            'current_charge': self.charge,\n",
    "            'current_edge_id': self.current_edge_id,\n",
    "            'remaining_length': remain,\n",
    "            'current_node': self.current_node,\n",
    "            'current_state': self.state,\n",
    "            'date': self.date\n",
    "        }\n",
    "        return pd.DataFrame([output_data])\n",
    "\n",
    "    # 选择可以直接去的充电站，find_station_dis即可认为是当前edge_id有充电站\n",
    "    def find_nearby_charging_stations(self):\n",
    "        return edge_to_charge[\n",
    "            (edge_to_charge['edge_id'] == self.current_edge_id) &\n",
    "            (edge_to_charge['charge_node_distance'] <= self.find_station_dis)\n",
    "            ].sort_values('charge_node_distance')\n",
    "\n",
    "    # 寻找最近的充电站\n",
    "    def charge_at_nearest_station(self, nearby_charging_stations):\n",
    "        nearest_charging_station = nearby_charging_stations.iloc[0]\n",
    "        charge_node_id = nearest_charging_station['charge_node_id']\n",
    "        charging_station = station_agents_dict[charge_node_id]\n",
    "\n",
    "        # 强制充电\n",
    "        if self.charge < 20 or self.charge < self.energy_consumption_per_step or charging_station.has_capacity():\n",
    "            self.current_node = charge_node_id\n",
    "            charging_station.station_run(self)\n",
    "\n",
    "    # 判断是否充电\n",
    "    def check_charging_station(self):\n",
    "        # 行驶中\n",
    "        if self.state == 1:\n",
    "            if self.current_node != self.d:\n",
    "                if self.charge <= 0:  # cont. 结束这个模拟，并给出报错\n",
    "                    self.charge = 0\n",
    "                    # print(f\"{self.trip_id}'s charge is null\")\n",
    "\n",
    "                if self.charge <= self.charging_threshold:\n",
    "                    nearby_charging_stations = self.find_nearby_charging_stations()\n",
    "                    if not nearby_charging_stations.empty:\n",
    "                        self.charge_at_nearest_station(nearby_charging_stations)\n",
    "                    # else:  # 当前edge没有在find_dis距离内的充电站\n",
    "                    #     print(f'{self.trip_id}在{self.current_edge_id}没找到充电站,当前电量是{self.charge}')\n",
    "            else:\n",
    "                # car_in_highway.pop(self.trip_id, None)\n",
    "                cars_to_delete[self.trip_id] = car\n",
    "\n",
    "\n",
    "    def move_to_next_node(self):\n",
    "        if self.state == 1:  # and self.charge > 0:  # 行驶中;有bug，之前默认为汽车电量低会进入强制充电。当step过大，电量耗尽时汽车所在边可能没有充电站，此时进入灵车状态\n",
    "            # 如果没行驶到终点\n",
    "            if self.current_node != self.d:\n",
    "                self.current_edge_id = self.edge_ids[0][self.edge_index]  # 更新当前所处的边ID\n",
    "                self.current_position_on_edge += self.speed  # 更新当前边上的位置  有bug 汽车的距离应该不直接和step挂钩，而是和耗电多少挂钩\n",
    "                self.charge = max(self.charge - self.energy_consumption_per_step, 0)  # 模拟行驶耗电量\n",
    "                self.current_sum_length = self.cumsum_lengths[0][self.edge_index]\n",
    "                # 如果当前边的位置 >= 路的总长度,如果没超过也得更新position\n",
    "                if self.current_position_on_edge >= self.current_sum_length:\n",
    "                    while self.current_position_on_edge >= self.current_sum_length and self.current_node != self.d:\n",
    "                        # 已经行驶完当前边，切换到下一边\n",
    "                        if self.edge_index < len(self.edge_ids[0]) - 1:\n",
    "                            self.edge_index += 1\n",
    "                            self.destination_node = self.edge_ids[0][self.edge_index]\n",
    "                            self.current_edge_id = self.edge_ids[0][self.edge_index]  # 更新当前所处的边ID\n",
    "                            self.current_sum_length = self.cumsum_lengths[0][self.edge_index]\n",
    "                            self.current_position_on_edge = self.current_position_on_edge - self.cumsum_lengths[0][\n",
    "                                self.edge_index - 1]  # 重置当前边上的位置\n",
    "                        else:  # 当前已经处于最后条边,并且剩余能行驶的距离大于最后一条边，那么视为到达终点\n",
    "                            self.current_node = self.d\n",
    "                            # car_in_highway.pop(self.trip_id, None)\n",
    "                            cars_to_delete[self.trip_id] = car\n",
    "\n",
    "                            self.car_df = pd.concat([self.car_df, self.create_car_dataframe()], ignore_index=True)\n",
    "                            break\n",
    "\n",
    "                # 如果没到目的地 判断是否需要充电\n",
    "                self.check_charging_station()\n",
    "                # if self.charge == 0:  # 需要在执行完这一个step之后才能退出，退出循环，但是默认为不会出现这种情况\n",
    "                #     print(\"没电了\")\n",
    "        else:  # 充电中\n",
    "            if self.charge >= self.max_charging_threshold:\n",
    "                self.state = 1\n",
    "                # 对充电站的操作\n",
    "                staion_agent = station_agents_dict[self.current_node]\n",
    "                self.current_node = self.o\n",
    "                staion_agent.current_queue.remove(self)\n",
    "                # staion_agent.add_to_queue(self) #上一个step已经充满电了，这一个step刚开始，新加入的车应该从当前step开始充电了，\n",
    "                # self.step += 1\n",
    "                # 给station_df添加车辆\n",
    "                staion_agent.append_to_stationDf()\n",
    "            else:  # 继续充电\n",
    "                station_agents_dict[self.current_node].station_run(self)\n",
    "\n",
    "    def run(self):\n",
    "        if self.current_node != self.d:\n",
    "            # car_df 当前状态\n",
    "            self.car_df = pd.concat([self.car_df, self.create_car_dataframe()], ignore_index=True)\n",
    "            self.step += 1\n",
    "            self.move_to_next_node()\n",
    "        else:\n",
    "            cars_to_delete[self.trip_id] = car\n",
    "\n",
    "        #     car_in_highway.pop(self.trip_id, None)\n",
    "            # if self.step > self.allstep:\n",
    "            #     break\n",
    "        # else:  # 已经到目的地，就从list移除该agent\n",
    "        #     self.car_df = pd.concat([self.car_df, self.create_car_dataframe()], ignore_index=True)\n",
    "\n",
    "\n",
    "class ChargingStationAgent:\n",
    "    def __init__(self, charge_node_id, max_capacity):\n",
    "        self.charge_node_id = charge_node_id\n",
    "        self.max_capacity = max_capacity\n",
    "        self.remaining_capacity = max_capacity\n",
    "        self.waiting_queue = []  # 等待队列\n",
    "        self.current_queue = []  # 正在充电的队列\n",
    "        self.charging_demand = 0\n",
    "        self.all_car_num = 0\n",
    "        self.station_df = pd.DataFrame()\n",
    "\n",
    "    # utils\n",
    "    def if_exit_in_queues(self, car_agent):\n",
    "        return (car_agent not in self.current_queue) and (car_agent not in self.waiting_queue)\n",
    "\n",
    "    def append_to_stationDf(self):\n",
    "        new_station_df = pd.DataFrame({\n",
    "            'charge_node_id': self.charge_node_id,\n",
    "            'step': now_step,\n",
    "            'all_car_num': self.all_car_num,\n",
    "            'charging_demand': self.charging_demand,\n",
    "            'current_car': [[current_car.trip_id for current_car in self.current_queue]],\n",
    "            'waiting_car': [[current_car.trip_id for current_car in self.waiting_queue]]\n",
    "        })\n",
    "\n",
    "        self.station_df = pd.concat([self.station_df, new_station_df], ignore_index=False)\n",
    "\n",
    "    def has_capacity(self):\n",
    "        return len(self.current_queue) < self.max_capacity\n",
    "\n",
    "    def charge_cars(self, car_agent):\n",
    "        if car_agent in self.current_queue:\n",
    "            car_agent.charging_per_step(self)\n",
    "\n",
    "    # functions\n",
    "    def add_to_queue(self, car_agent):\n",
    "        if self.if_exit_in_queues(car_agent):\n",
    "            if self.has_capacity():\n",
    "                self.current_queue.append(car_agent)\n",
    "                self.all_car_num += 1\n",
    "            else:\n",
    "                self.waiting_queue.append(car_agent)\n",
    "            self.append_to_stationDf()\n",
    "\n",
    "    def move_cars_from_waiting_to_current(self):\n",
    "        while self.has_capacity() and len(self.waiting_queue) > 0:\n",
    "            car_agent = self.waiting_queue.pop(0)\n",
    "            if car_agent not in self.current_queue:\n",
    "                self.current_queue.append(car_agent)\n",
    "                self.all_car_num += 1\n",
    "                self.append_to_stationDf()\n",
    "\n",
    "    def station_run(self, car_agent):\n",
    "        # 这个step要和car的step统一\n",
    "        car_agent.state = 0\n",
    "        self.add_to_queue(car_agent)\n",
    "        # 如果在current队列中就给充电\n",
    "        self.charge_cars(car_agent)\n",
    "        # 如果有空余位置就把waiting队列pop 并加入到current队列\n",
    "        self.move_cars_from_waiting_to_current()\n",
    "\n",
    "\n",
    "def process_car(car):\n",
    "    car.run()\n",
    "\n",
    "\n",
    "\n",
    "# 读入数据\n",
    "od_dis_table = pd.read_csv('input/new_od_dis.csv')\n",
    "edge_to_charge = pd.read_csv('data/edge_to_charge.csv')\n",
    "agent_data = pd.read_csv('input/od_to_trip_id2.csv')\n",
    "\n",
    "run_time = time.time() - start_time\n",
    "time_list.append(run_time)\n",
    "print(f\"读入OD数据需要时间：{run_time:.2f}秒\")\n",
    "\n",
    "# 初始化所有的stations\n",
    "station_ids = edge_to_charge.groupby('charge_node_id')['充电车位数'].first().reset_index()\n",
    "station_agents = [\n",
    "    ChargingStationAgent(row.charge_node_id, row['充电车位数'])\n",
    "    for _, row in station_ids.iterrows()\n",
    "]\n",
    "station_agents_dict = {\n",
    "    agent.charge_node_id: agent\n",
    "    for agent in station_agents\n",
    "}\n",
    "\n",
    "# 初始化代理\n",
    "# 车的设定是电池容量70kWh，百公里耗电20kWh，一辆车续航3.5h，350km左右;\n",
    "# 充电速率快充，40kW，每小时可以充40kWh;\n",
    "\n",
    "now_step = 0  # 每一个step 6min /到达关键节点\n",
    "allstep = 10\n",
    "init_charge = random.randint(90, 100)\n",
    "cnt_step = 1440 // min_per_step - 1  # 一天有多少个step,从0开始\n",
    "charging_amount_per_step = 100 * (4 / 7) * (min_per_step / 60)  # 每小时充40kw（4/7）的电量\n",
    "# charging_amount_per_step = 50 # 每小时充40kw（4/7）的电量\n",
    "speed = 1000 * (min_per_step * 100) / 60  # 每个step行驶的距离\n",
    "energy_consumption_per_step = speed * (2 / 7) / 1000  # 百公里耗电20kwh，也就是 2/7 的电量\n",
    "find_dis = 1000  # 多近的距离可以直接去\n",
    "charging_threshold = 40  # 多少电量开始寻找充电站\n",
    "max_charging_threshold = 85\n",
    "\n",
    "agents = []\n",
    "car_in_highway = {}\n",
    "all_agent_list_dict = [[] for _ in range(cnt_step + 1)]\n",
    "# all_agent_list_dict = [[] for _ in range(cnt_step * 2 + 1)]\n",
    "# 初始化\n",
    "for _, row in agent_data.iterrows():\n",
    "    trip_id = row['trip_id']\n",
    "    o = row['O']\n",
    "    d = row['D']\n",
    "    date = row['date']\n",
    "    start_step = row['start_step']\n",
    "\n",
    "    row = od_dis_table[(od_dis_table['station_id_x'] == o) & (od_dis_table['station_id_y'] == d)]\n",
    "    agent = CarAgent(\n",
    "        trip_id=trip_id,\n",
    "        o=o,\n",
    "        d=d,\n",
    "        edge_ids=row['edge_id'].apply(eval).tolist()[0],\n",
    "        cumsum_lengths=row['cumsumlength'].apply(eval).tolist()[0],\n",
    "        init_charge=init_charge,\n",
    "        allstep=allstep,  # 模拟步数,没启用\n",
    "        energy_consumption_per_step=energy_consumption_per_step,\n",
    "        start_step=start_step,\n",
    "        charging_amount_per_step=charging_amount_per_step,\n",
    "        date=date,\n",
    "        speed=speed,\n",
    "        find_station_dis=find_dis,\n",
    "        charging_threshold=charging_threshold,\n",
    "        max_charging_threshold=max_charging_threshold\n",
    "    )\n",
    "\n",
    "    agents.append(agent)\n",
    "    all_agent_list_dict[start_step].append(agent)\n",
    "\n",
    "run_time = time.time() - start_time\n",
    "time_list.append(run_time)\n",
    "print(f\"初始化时间：{run_time:.2f}秒\")\n",
    "\n",
    "car_ids = list(car_in_highway.keys())  # 创建一个字典键的副本\n",
    "\n",
    "# 代理运行\n",
    "for step in range(cnt_step - 1):\n",
    "# for step in range(cnt_step * 2 - 1):\n",
    "\n",
    "    now_step = step\n",
    "    print(f\"now_step:{now_step}\")\n",
    "    agent_list = all_agent_list_dict[step]  # 获取当前时刻（step）的代理列表\n",
    "    if agent_list:  # 如果当前step有agent\n",
    "        for agent in agent_list:\n",
    "            # agent.run()\n",
    "            car_in_highway[agent.trip_id] = agent\n",
    "\n",
    "    # for car in car_in_highway.values():\n",
    "    #     car.run()\n",
    "    # for trip_id, car in car_in_highway.items():\n",
    "    #     car.run()\n",
    "    # 并发\n",
    "    with ThreadPoolExecutor() as executor:\n",
    "        futures = [executor.submit(process_car, trip_id, car) for trip_id, car in car_in_highway.items()]\n",
    "        # 获取结果（可选）\n",
    "        results = [future.result() for future in futures]\n",
    "\n",
    "    # 创建一个临时的字典用于存储要删除的元素\n",
    "    cars_to_delete = {}\n",
    "    # 删除临时字典中的元素\n",
    "    for trip_id in cars_to_delete:\n",
    "        car_in_highway.pop(trip_id, None)\n",
    "run_time = time.time() - start_time\n",
    "time_list.append(run_time)\n",
    "print(f\"完成运行时间：{run_time:.2f}秒\")\n",
    "\n",
    "all_car_df = pd.concat([agent.car_df for agent in agents], ignore_index=False)\n",
    "all_car_df = all_car_df.set_index('step')\n",
    "all_car_df['id'], _ = pd.factorize(all_car_df['trip_id'])\n",
    "all_car_df.to_csv(f'output/cars_step_day.csv')\n",
    "\n",
    "all_station_df = pd.concat([station.station_df for station in station_agents], ignore_index=False)\n",
    "if not all_station_df.empty:\n",
    "    # all_station_df = all_station_df.set_index('step')\n",
    "    # all_station_df.reset_index(inplace=True)\n",
    "\n",
    "    # 计算小时数和分钟数\n",
    "    all_station_df['hour'] = all_station_df['step'] // (60 / min_per_step)\n",
    "    all_station_df['minute'] = (all_station_df['step'] % (60 / min_per_step)) * min_per_step\n",
    "\n",
    "    # 将小时数和分钟数转换为时间间隔\n",
    "    time_delta = pd.to_timedelta(all_station_df['hour'], unit='h') + pd.to_timedelta(all_station_df['minute'], unit='m')\n",
    "    base_time = pd.Timestamp('2023-09-03')\n",
    "    all_station_df['time'] = base_time + time_delta\n",
    "    all_station_df = all_station_df.drop([\"hour\", \"minute\"], axis=1)\n",
    "\n",
    "    all_station_df.to_csv(f'output/stations_step_day.csv')\n",
    "else:\n",
    "    print('整个ABM没有充电需求')\n",
    "\n"
   ],
   "metadata": {
    "collapsed": false
   }
  },
  {
   "cell_type": "markdown",
   "source": [
    "# 输出数据处理"
   ],
   "metadata": {
    "collapsed": false
   }
  },
  {
   "cell_type": "markdown",
   "source": [
    "## 1 汽车 step to time"
   ],
   "metadata": {
    "collapsed": false
   }
  },
  {
   "cell_type": "code",
   "execution_count": 6,
   "outputs": [
    {
     "name": "stderr",
     "output_type": "stream",
     "text": [
      "/var/folders/p9/yqjz85994xb5q9_xqzc25_wc0000gn/T/ipykernel_21545/2404321950.py:26: SettingWithCopyWarning: \n",
      "A value is trying to be set on a copy of a slice from a DataFrame.\n",
      "Try using .loc[row_indexer,col_indexer] = value instead\n",
      "\n",
      "See the caveats in the documentation: https://pandas.pydata.org/pandas-docs/stable/user_guide/indexing.html#returning-a-view-versus-a-copy\n",
      "  all_car2['time'] = all_car2.apply(calculate_time, axis=1)\n",
      "/var/folders/p9/yqjz85994xb5q9_xqzc25_wc0000gn/T/ipykernel_21545/2404321950.py:43: SettingWithCopyWarning: \n",
      "A value is trying to be set on a copy of a slice from a DataFrame.\n",
      "Try using .loc[row_indexer,col_indexer] = value instead\n",
      "\n",
      "See the caveats in the documentation: https://pandas.pydata.org/pandas-docs/stable/user_guide/indexing.html#returning-a-view-versus-a-copy\n",
      "  data2['id'], _ = pd.factorize(data2['trip_id'])\n"
     ]
    },
    {
     "data": {
      "text/plain": "            id    trip_id  edge_id  current_charge         lon        lat  \\\n0            0      1-0-1    29930       93.523810  114.038128  22.684021   \n166          0      1-0-1     5639       93.047619  114.022218  22.685180   \n453          0      1-0-1     5717       92.571429  114.006219  22.686931   \n799          0      1-0-1     5727       92.095238  113.991027  22.691187   \n861          0      1-0-1    30065       91.619048  113.975525  22.687187   \n...        ...        ...      ...             ...         ...        ...   \n4183696  50306  1-320-217     6443       49.238095  112.259976  22.742144   \n4183697  50306  1-320-217     6443       48.761905  112.273335  22.734015   \n4183698  50306  1-320-217     6443       48.285714  112.286332  22.725727   \n4183699  50306  1-320-217     6443       47.809524  112.302124  22.724247   \n3793588  50306  1-320-217    49473       47.333333  112.307153  22.719813   \n\n                       time  \n0       2023-09-03 04:04:00  \n166     2023-09-03 04:05:00  \n453     2023-09-03 04:06:00  \n799     2023-09-03 04:07:00  \n861     2023-09-03 04:08:00  \n...                     ...  \n4183696 2023-09-03 05:17:00  \n4183697 2023-09-03 05:18:00  \n4183698 2023-09-03 05:19:00  \n4183699 2023-09-03 05:20:00  \n3793588 2023-09-03 05:21:00  \n\n[4542352 rows x 7 columns]",
      "text/html": "<div>\n<style scoped>\n    .dataframe tbody tr th:only-of-type {\n        vertical-align: middle;\n    }\n\n    .dataframe tbody tr th {\n        vertical-align: top;\n    }\n\n    .dataframe thead th {\n        text-align: right;\n    }\n</style>\n<table border=\"1\" class=\"dataframe\">\n  <thead>\n    <tr style=\"text-align: right;\">\n      <th></th>\n      <th>id</th>\n      <th>trip_id</th>\n      <th>edge_id</th>\n      <th>current_charge</th>\n      <th>lon</th>\n      <th>lat</th>\n      <th>time</th>\n    </tr>\n  </thead>\n  <tbody>\n    <tr>\n      <th>0</th>\n      <td>0</td>\n      <td>1-0-1</td>\n      <td>29930</td>\n      <td>93.523810</td>\n      <td>114.038128</td>\n      <td>22.684021</td>\n      <td>2023-09-03 04:04:00</td>\n    </tr>\n    <tr>\n      <th>166</th>\n      <td>0</td>\n      <td>1-0-1</td>\n      <td>5639</td>\n      <td>93.047619</td>\n      <td>114.022218</td>\n      <td>22.685180</td>\n      <td>2023-09-03 04:05:00</td>\n    </tr>\n    <tr>\n      <th>453</th>\n      <td>0</td>\n      <td>1-0-1</td>\n      <td>5717</td>\n      <td>92.571429</td>\n      <td>114.006219</td>\n      <td>22.686931</td>\n      <td>2023-09-03 04:06:00</td>\n    </tr>\n    <tr>\n      <th>799</th>\n      <td>0</td>\n      <td>1-0-1</td>\n      <td>5727</td>\n      <td>92.095238</td>\n      <td>113.991027</td>\n      <td>22.691187</td>\n      <td>2023-09-03 04:07:00</td>\n    </tr>\n    <tr>\n      <th>861</th>\n      <td>0</td>\n      <td>1-0-1</td>\n      <td>30065</td>\n      <td>91.619048</td>\n      <td>113.975525</td>\n      <td>22.687187</td>\n      <td>2023-09-03 04:08:00</td>\n    </tr>\n    <tr>\n      <th>...</th>\n      <td>...</td>\n      <td>...</td>\n      <td>...</td>\n      <td>...</td>\n      <td>...</td>\n      <td>...</td>\n      <td>...</td>\n    </tr>\n    <tr>\n      <th>4183696</th>\n      <td>50306</td>\n      <td>1-320-217</td>\n      <td>6443</td>\n      <td>49.238095</td>\n      <td>112.259976</td>\n      <td>22.742144</td>\n      <td>2023-09-03 05:17:00</td>\n    </tr>\n    <tr>\n      <th>4183697</th>\n      <td>50306</td>\n      <td>1-320-217</td>\n      <td>6443</td>\n      <td>48.761905</td>\n      <td>112.273335</td>\n      <td>22.734015</td>\n      <td>2023-09-03 05:18:00</td>\n    </tr>\n    <tr>\n      <th>4183698</th>\n      <td>50306</td>\n      <td>1-320-217</td>\n      <td>6443</td>\n      <td>48.285714</td>\n      <td>112.286332</td>\n      <td>22.725727</td>\n      <td>2023-09-03 05:19:00</td>\n    </tr>\n    <tr>\n      <th>4183699</th>\n      <td>50306</td>\n      <td>1-320-217</td>\n      <td>6443</td>\n      <td>47.809524</td>\n      <td>112.302124</td>\n      <td>22.724247</td>\n      <td>2023-09-03 05:20:00</td>\n    </tr>\n    <tr>\n      <th>3793588</th>\n      <td>50306</td>\n      <td>1-320-217</td>\n      <td>49473</td>\n      <td>47.333333</td>\n      <td>112.307153</td>\n      <td>22.719813</td>\n      <td>2023-09-03 05:21:00</td>\n    </tr>\n  </tbody>\n</table>\n<p>4542352 rows × 7 columns</p>\n</div>"
     },
     "execution_count": 6,
     "metadata": {},
     "output_type": "execute_result"
    }
   ],
   "source": [
    "from datetime import datetime, timedelta\n",
    "import geopandas as gpd\n",
    "import pandas as pd\n",
    "\n",
    "edge = gpd.read_file(r'data/广东省高速公路_简化_边.json')\n",
    "edge.crs\n",
    "\n",
    "all_car = pd.read_csv('output/cars_step_day.csv')\n",
    "\n",
    "all_car['true_step'] = all_car['step'] + all_car['start_step']\n",
    "\n",
    "all_car2 = all_car[['trip_id', 'current_charge', 'current_edge_id', 'remaining_length', 'true_step', 'date']]\n",
    "\n",
    "step_per_day = 1440 // min_per_step - 1  # 一天的 step 数量  0-23\n",
    "\n",
    "\n",
    "def calculate_time(row):\n",
    "    days = (row['true_step']) // step_per_day  # 计算跨越的天数\n",
    "    minutes = (row['true_step'] % step_per_day) * min_per_step  # 计算剩余分钟数\n",
    "    base_date = datetime.strptime(row['date'], '%Y-%m-%d')  # 基准日期（转换为日期对象）\n",
    "    base_date = datetime(base_date.year, base_date.month, base_date.day)\n",
    "    time = base_date + timedelta(days=days, minutes=minutes)  # 计算最终的日期和时间\n",
    "    return time\n",
    "\n",
    "\n",
    "all_car2['time'] = all_car2.apply(calculate_time, axis=1)\n",
    "all_car2 = all_car2.reset_index(drop=True)\n",
    "\n",
    "# all_car2\n",
    "all_car2 = all_car2.rename(columns={'current_edge_id': 'edge_id'})\n",
    "\n",
    "# 插值经纬度\n",
    "data1 = pd.merge(all_car2, edge, on='edge_id')\n",
    "data1['ratio'] = 1 - data1['remaining_length'] / data1['length']\n",
    "data1['p'] = data1.apply(lambda row: row['geometry'].interpolate(row['geometry'].length * row['ratio']), axis=1)\n",
    "data1['lon'] = data1['p'].apply(lambda r: r.x)\n",
    "data1['lat'] = data1['p'].apply(lambda r: r.y)\n",
    "# 生成时间\n",
    "data2 = data1[\n",
    "    ['trip_id', 'edge_id', 'current_charge', 'remaining_length', 'length', 'ratio', 'p', 'true_step', 'time', 'lon',\n",
    "     'lat']]\n",
    "\n",
    "data2['id'], _ = pd.factorize(data2['trip_id'])\n",
    "\n",
    "sorted_df = data2.sort_values(by=[\"id\", \"time\"])\n",
    "sorted_df = sorted_df[['id', 'trip_id', 'edge_id', 'current_charge', 'lon', 'lat', 'time']]\n",
    "sorted_df['100-soc'] = 100 - sorted_df['current_charge']\n",
    "\n",
    "# 保存\n",
    "sorted_df.to_csv('output/vis.csv')\n",
    "sorted_df"
   ],
   "metadata": {
    "collapsed": false
   }
  },
  {
   "cell_type": "markdown",
   "source": [
    "## 2 station_demand :time and lon lat"
   ],
   "metadata": {
    "collapsed": false
   }
  },
  {
   "cell_type": "code",
   "execution_count": 12,
   "outputs": [
    {
     "name": "stderr",
     "output_type": "stream",
     "text": [
      "/var/folders/p9/yqjz85994xb5q9_xqzc25_wc0000gn/T/ipykernel_21545/3888971909.py:17: FutureWarning: Not prepending group keys to the result index of transform-like apply. In the future, the group keys will be included in the index, regardless of whether the applied function returns a like-indexed object.\n",
      "To preserve the previous behavior, use\n",
      "\n",
      "\t>>> .groupby(..., group_keys=False)\n",
      "\n",
      "To adopt the future behavior and silence this warning, use \n",
      "\n",
      "\t>>> .groupby(..., group_keys=True)\n",
      "  'charge_node_id').apply(lambda df: df.ffill().fillna(0))\n"
     ]
    },
    {
     "name": "stdout",
     "output_type": "stream",
     "text": [
      "完成ABM+数据保存所需时间：5085.63秒\n",
      "time: 28278867.0min 1696732051.804197s\n",
      "time: 0.0min 6.488640785217285s\n",
      "time: 1.0min 71.63754892349243s\n",
      "time: 53.0min 3190.0878190994263s\n",
      "time: 81.0min 4891.310086965561s\n",
      "time: 84.0min 5059.252681970596s\n",
      "time: 84.0min 5085.631912946701s\n"
     ]
    }
   ],
   "source": [
    "stations_step_day = pd.read_csv('output/stations_step_day.csv')\n",
    "\n",
    "# 计算每一时刻充电站的车辆数\n",
    "stations_step_day['current_car'] = stations_step_day['current_car'].apply(lambda x: ast.literal_eval(x))\n",
    "stations_step_day['waiting_car'] = stations_step_day['waiting_car'].apply(lambda x: ast.literal_eval(x))\n",
    "stations_step_day['current_car_count'] = stations_step_day['current_car'].apply(lambda x: len(x))\n",
    "stations_step_day['waiting_car_count'] = stations_step_day['waiting_car'].apply(lambda x: len(x))\n",
    "\n",
    "# 补全至全天时间段\n",
    "charge_node_id = stations_step_day[['charge_node_id']].drop_duplicates()\n",
    "charge_node_id['flag'] = 1\n",
    "steps = pd.DataFrame(range(stations_step_day['step'].max()), columns=['step'])\n",
    "steps['flag'] = 1\n",
    "charge_node_id = pd.merge(charge_node_id, steps, on='flag').drop('flag', axis=1)\n",
    "\n",
    "stations_step_day = pd.merge(charge_node_id, stations_step_day, on=['charge_node_id', 'step'], how='left').groupby(\n",
    "    'charge_node_id').apply(lambda df: df.ffill().fillna(0))\n",
    "\n",
    "# 对应充电站位置\n",
    "stations_node = gpd.read_file('data/广东省高速公路_简化_节点.json')\n",
    "stations_step_day = pd.merge(stations_step_day, stations_node[['id', 'lon', 'lat']], left_on='charge_node_id',\n",
    "                             right_on='id')\n",
    "# 换算到时间\n",
    "step_length = '1 minutes'\n",
    "stations_step_day['time'] = stations_step_day['step'] * pd.Timedelta(step_length) + pd.Timestamp('2023-09-03 00:00:00')\n",
    "stations_step_day['time'] = stations_step_day['time'].astype(str)\n",
    "stations_step_day[\n",
    "    ['charge_node_id', 'lon', 'lat', 'time', 'charging_demand', 'current_car_count', 'waiting_car_count']].to_csv(\n",
    "    'output/stations_step_day_vis.csv', index=False)\n",
    "\n",
    "for station in station_agents:\n",
    "    if not station.station_df.empty:\n",
    "        station.station_df.to_csv(f'station/{station.charge_node_id}.csv')\n",
    "\n",
    "run_time = time.time() - start_time\n",
    "time_list.append(run_time)\n",
    "print(f\"完成ABM+数据保存所需时间：{run_time:.2f}秒\")\n",
    "\n",
    "for times in time_list:\n",
    "    print(f'time: {times // 60}min {times}s')\n"
   ],
   "metadata": {
    "collapsed": false
   }
  },
  {
   "cell_type": "markdown",
   "source": [
    "## 3 station_demand可视化 step换算"
   ],
   "metadata": {
    "collapsed": false
   }
  },
  {
   "cell_type": "code",
   "execution_count": 8,
   "outputs": [
    {
     "data": {
      "text/plain": "      step  all_car_num  charging_demand  hour  minute\n0        0          0.0         0.000000   0.0     0.0\n1        1          0.0         0.000000   0.0     1.0\n2        2          0.0         0.000000   0.0     2.0\n3        3          0.0         0.000000   0.0     3.0\n4        4          0.0         0.000000   0.0     4.0\n...    ...          ...              ...   ...     ...\n1435  1435          0.0         0.000000  23.0    55.0\n1436  1436          0.0         0.000000  23.0    56.0\n1437  1437          1.0        95.238095  23.0    57.0\n1438  1438          0.0         0.000000  23.0    58.0\n1439  1439          0.0         0.000000  23.0    59.0\n\n[1440 rows x 5 columns]",
      "text/html": "<div>\n<style scoped>\n    .dataframe tbody tr th:only-of-type {\n        vertical-align: middle;\n    }\n\n    .dataframe tbody tr th {\n        vertical-align: top;\n    }\n\n    .dataframe thead th {\n        text-align: right;\n    }\n</style>\n<table border=\"1\" class=\"dataframe\">\n  <thead>\n    <tr style=\"text-align: right;\">\n      <th></th>\n      <th>step</th>\n      <th>all_car_num</th>\n      <th>charging_demand</th>\n      <th>hour</th>\n      <th>minute</th>\n    </tr>\n  </thead>\n  <tbody>\n    <tr>\n      <th>0</th>\n      <td>0</td>\n      <td>0.0</td>\n      <td>0.000000</td>\n      <td>0.0</td>\n      <td>0.0</td>\n    </tr>\n    <tr>\n      <th>1</th>\n      <td>1</td>\n      <td>0.0</td>\n      <td>0.000000</td>\n      <td>0.0</td>\n      <td>1.0</td>\n    </tr>\n    <tr>\n      <th>2</th>\n      <td>2</td>\n      <td>0.0</td>\n      <td>0.000000</td>\n      <td>0.0</td>\n      <td>2.0</td>\n    </tr>\n    <tr>\n      <th>3</th>\n      <td>3</td>\n      <td>0.0</td>\n      <td>0.000000</td>\n      <td>0.0</td>\n      <td>3.0</td>\n    </tr>\n    <tr>\n      <th>4</th>\n      <td>4</td>\n      <td>0.0</td>\n      <td>0.000000</td>\n      <td>0.0</td>\n      <td>4.0</td>\n    </tr>\n    <tr>\n      <th>...</th>\n      <td>...</td>\n      <td>...</td>\n      <td>...</td>\n      <td>...</td>\n      <td>...</td>\n    </tr>\n    <tr>\n      <th>1435</th>\n      <td>1435</td>\n      <td>0.0</td>\n      <td>0.000000</td>\n      <td>23.0</td>\n      <td>55.0</td>\n    </tr>\n    <tr>\n      <th>1436</th>\n      <td>1436</td>\n      <td>0.0</td>\n      <td>0.000000</td>\n      <td>23.0</td>\n      <td>56.0</td>\n    </tr>\n    <tr>\n      <th>1437</th>\n      <td>1437</td>\n      <td>1.0</td>\n      <td>95.238095</td>\n      <td>23.0</td>\n      <td>57.0</td>\n    </tr>\n    <tr>\n      <th>1438</th>\n      <td>1438</td>\n      <td>0.0</td>\n      <td>0.000000</td>\n      <td>23.0</td>\n      <td>58.0</td>\n    </tr>\n    <tr>\n      <th>1439</th>\n      <td>1439</td>\n      <td>0.0</td>\n      <td>0.000000</td>\n      <td>23.0</td>\n      <td>59.0</td>\n    </tr>\n  </tbody>\n</table>\n<p>1440 rows × 5 columns</p>\n</div>"
     },
     "execution_count": 8,
     "metadata": {},
     "output_type": "execute_result"
    }
   ],
   "source": [
    "import pandas as pd\n",
    "\n",
    "station_output = pd.read_csv('output/stations_step_day.csv')\n",
    "step_num = 1440 // min_per_step - 1  # 一天有多少个step,从0开始\n",
    "complete_steps = range(step_num + 1)  #\n",
    "\n",
    "## 计算差值\n",
    "# 按照 \"step\" 列进行分组，并计算每个分组中的最大车辆数和需求\n",
    "aggregated_df = station_output.groupby([\"step\", \"charge_node_id\"]).agg({\"all_car_num\": \"max\", \"charging_demand\": \"max\"})\n",
    "# 按照 \"charge_node_id\" 进行分组，并计算相邻行的差值\n",
    "aggregated_df['num_diff'] = aggregated_df.groupby('charge_node_id')['all_car_num'].diff()\n",
    "aggregated_df['demand_diff'] = aggregated_df.groupby('charge_node_id')['charging_demand'].diff()\n",
    "aggregated_df = aggregated_df.fillna(0)\n",
    "summed_df = aggregated_df.groupby('step').agg({'num_diff': 'sum', 'demand_diff': 'sum'}).reset_index()\n",
    "# 差值\n",
    "summed_df\n",
    "\n",
    "# 空的所有step和上述差值做merge\n",
    "allstepdf = pd.DataFrame({'step': complete_steps})\n",
    "allstepdf['num_diff'] = 0\n",
    "allstepdf['demand_diff'] = 0\n",
    "stations_demand = pd.merge(allstepdf, summed_df, on='step', how='left')\n",
    "# 使用 df2 中的值替换 df1 中的对应行\n",
    "stations_demand['num_diff_y'].fillna(0, inplace=True)\n",
    "stations_demand['demand_diff_y'].fillna(0, inplace=True)\n",
    "# 删除多余的列\n",
    "stations_demand.drop(['num_diff_x', 'demand_diff_x'], axis=1, inplace=True)\n",
    "stations_demand.rename(columns={'num_diff_y': 'all_car_num', 'demand_diff_y': 'charging_demand'}, inplace=True)\n",
    "# 计算小时数和分钟数\n",
    "stations_demand['hour'] = stations_demand['step'] // (60 / min_per_step)\n",
    "stations_demand['minute'] = (stations_demand['step'] % (60 / min_per_step)) * min_per_step\n",
    "stations_demand\n"
   ],
   "metadata": {
    "collapsed": false
   }
  },
  {
   "cell_type": "markdown",
   "source": [
    "## 4 根据24小时可视化"
   ],
   "metadata": {
    "collapsed": false
   }
  },
  {
   "cell_type": "code",
   "execution_count": 9,
   "outputs": [
    {
     "data": {
      "text/plain": "<Figure size 640x480 with 2 Axes>",
      "image/png": "[encoded data removed]"
     },
     "metadata": {},
     "output_type": "display_data"
    }
   ],
   "source": [
    "stations_demand_time = stations_demand.groupby(\"hour\").agg(\n",
    "    {\"all_car_num\": \"sum\", \"charging_demand\": \"sum\"}).reset_index()\n",
    "import pandas as pd\n",
    "import numpy as np\n",
    "import matplotlib.pyplot as plt\n",
    "\n",
    "# 假设您已经有了一个名为 df 的 DataFrame，包含 \"step\"、\"demand\" 和 \"num\" 列\n",
    "\n",
    "# 创建一个图形和一个坐标轴\n",
    "fig, ax1 = plt.subplots()\n",
    "\n",
    "# 插值方法\n",
    "interp_method = 'cubic'  # 可以尝试不同的插值方法，如 'linear', 'quadratic', 'cubic'\n",
    "\n",
    "# 绘制 \"demand\" 曲线\n",
    "x = stations_demand_time['hour']\n",
    "y_demand = stations_demand_time['charging_demand']\n",
    "x_new = np.linspace(x.min(), x.max(), 300)  # 创建新的平滑的 x 值\n",
    "y_demand_smooth = np.interp(x_new, x, y_demand)  # 进行插值计算\n",
    "ax1.plot(x_new, y_demand_smooth, color='blue', label='Demand')\n",
    "ax1.set_xlabel('Hour')\n",
    "ax1.set_ylabel('Demand', color='blue')\n",
    "ax1.tick_params(axis='y', labelcolor='blue')\n",
    "\n",
    "# 创建第二个坐标轴，并绘制 \"num\" 曲线\n",
    "ax2 = ax1.twinx()\n",
    "y_num = stations_demand_time['all_car_num']\n",
    "y_num_smooth = np.interp(x_new, x, y_num)  # 进行插值计算\n",
    "ax2.plot(x_new, y_num_smooth, color='red', label='Num')\n",
    "ax2.set_ylabel('Num', color='red')\n",
    "ax2.tick_params(axis='y', labelcolor='red')\n",
    "\n",
    "# 添加图例\n",
    "lines = [ax1.get_lines()[0], ax2.get_lines()[0]]\n",
    "ax1.legend(lines, [line.get_label() for line in lines], loc='upper left')\n",
    "\n",
    "# 调整布局，以便 \"num\" 的刻度显示在图的右边\n",
    "fig.tight_layout()\n",
    "\n",
    "plt.savefig('output/demands_24h.png')\n",
    "\n",
    "# 显示图形\n",
    "plt.show()"
   ],
   "metadata": {
    "collapsed": false
   }
  },
  {
   "cell_type": "markdown",
   "source": [
    "## 5 根据step可视化"
   ],
   "metadata": {
    "collapsed": false
   }
  },
  {
   "cell_type": "code",
   "execution_count": 10,
   "outputs": [
    {
     "data": {
      "text/plain": "<Figure size 640x480 with 2 Axes>",
      "image/png": "[encoded data removed]"
     },
     "metadata": {},
     "output_type": "display_data"
    }
   ],
   "source": [
    "import pandas as pd\n",
    "import numpy as np\n",
    "import matplotlib.pyplot as plt\n",
    "\n",
    "# 假设您已经有了一个名为 df 的 DataFrame，包含 \"step\"、\"demand\" 和 \"num\" 列\n",
    "\n",
    "# 创建一个图形和一个坐标轴\n",
    "fig, ax1 = plt.subplots()\n",
    "\n",
    "# 插值方法\n",
    "# interp_method = 'cubic'  # 可以尝试不同的插值方法，如 'linear', 'quadratic', 'cubic'\n",
    "interp_method = 'quadratic'  # 可以尝试不同的插值方法，如 'linear', 'quadratic', 'cubic'\n",
    "\n",
    "# 绘制 \"demand\" 曲线\n",
    "x = stations_demand['step']\n",
    "y_demand = stations_demand['charging_demand']\n",
    "x_new = np.linspace(x.min(), x.max(), 300)  # 创建新的平滑的 x 值\n",
    "y_demand_smooth = np.interp(x_new, x, y_demand)  # 进行插值计算\n",
    "ax1.plot(x_new, y_demand_smooth, color='blue', label='Demand')\n",
    "ax1.set_xlabel('Step')\n",
    "ax1.set_ylabel('Demand', color='blue')\n",
    "ax1.tick_params(axis='y', labelcolor='blue')\n",
    "\n",
    "# 创建第二个坐标轴，并绘制 \"num\" 曲线\n",
    "ax2 = ax1.twinx()\n",
    "y_num = stations_demand['all_car_num']\n",
    "y_num_smooth = np.interp(x_new, x, y_num)  # 进行插值计算\n",
    "ax2.plot(x_new, y_num_smooth, color='red', label='Num')\n",
    "ax2.set_ylabel('Num', color='red')\n",
    "ax2.set_ylim([0, 20])  # 设置纵轴刻度范围\n",
    "ax2.tick_params(axis='y', labelcolor='red')\n",
    "\n",
    "# 添加图例\n",
    "lines = [ax1.get_lines()[0], ax2.get_lines()[0]]\n",
    "ax1.legend(lines, [line.get_label() for line in lines], loc='upper left')\n",
    "\n",
    "# 调整布局，以便 \"num\" 的刻度显示在图的右边\n",
    "fig.tight_layout()\n",
    "\n",
    "plt.savefig(f'output/qu_demands_{step_num + 1}step.png')\n",
    "\n",
    "# 显示图形\n",
    "plt.show()"
   ],
   "metadata": {
    "collapsed": false
   }
  },
  {
   "cell_type": "code",
   "execution_count": null,
   "outputs": [],
   "source": [],
   "metadata": {
    "collapsed": false
   }
  }
 ],
 "metadata": {
  "kernelspec": {
   "display_name": "Python 3",
   "language": "python",
   "name": "python3"
  },
  "language_info": {
   "codemirror_mode": {
    "name": "ipython",
    "version": 2
   },
   "file_extension": ".py",
   "mimetype": "text/x-python",
   "name": "python",
   "nbconvert_exporter": "python",
   "pygments_lexer": "ipython2",
   "version": "2.7.6"
  }
 },
 "nbformat": 4,
 "nbformat_minor": 0
}
