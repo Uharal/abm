{
 "cells": [
  {
   "cell_type": "code",
   "execution_count": null,
   "metadata": {
    "collapsed": true
   },
   "outputs": [],
   "source": [
    "import pandas as pd\n",
    "\n",
    "# 假设 df1 是起点数据，包含 date、MR_count_median 和 station_id_x 列\n",
    "# 假设 df2 是终点数据，包含 date、MR_count_median 和 station_id_x 列\n",
    "\n",
    "# 聚合 df1，按 date 和 station_id_x 计算每个起点的总数量\n",
    "df1_agg = df1.groupby(['date', 'station_id_x'])['MR_count_median'].sum().reset_index()\n",
    "\n",
    "# 聚合 df2，按 date 和 station_id_x 计算每个终点的总数量\n",
    "df2_agg = df2.groupby(['date', 'station_id_x'])['MR_count_median'].sum().reset_index()\n",
    "\n",
    "# 合并 df1_agg 和 df2_agg，根据共享的 date 和 station_id_x 列\n",
    "df_merged = pd.merge(df1_agg, df2_agg, on=['date', 'station_id_x'])\n",
    "\n",
    "# 计算概率\n",
    "df_merged['prob'] = df_merged['MR_count_median_x'] * df_merged['MR_count_median_y'] / df_merged.groupby('date')['MR_count_median_x'].transform('sum')\n",
    "\n",
    "# 选择需要的列，包括起点、终点、date 和概率\n",
    "df3 = df_merged[['station_id_x', 'station_id_y', 'date', 'prob']]\n",
    "df3.columns = ['o', 'd', 'date', 'prob']\n",
    "\n",
    "print(df3)"
   ]
  }
 ],
 "metadata": {
  "kernelspec": {
   "display_name": "Python 3",
   "language": "python",
   "name": "python3"
  },
  "language_info": {
   "codemirror_mode": {
    "name": "ipython",
    "version": 2
   },
   "file_extension": ".py",
   "mimetype": "text/x-python",
   "name": "python",
   "nbconvert_exporter": "python",
   "pygments_lexer": "ipython2",
   "version": "2.7.6"
  }
 },
 "nbformat": 4,
 "nbformat_minor": 0
}
