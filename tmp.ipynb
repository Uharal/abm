import pandas as pd

# 假设 df1 是起点数据，包含 date、MR_count_median 和 station_id_x 列
# 假设 df2 是终点数据，包含 date、MR_count_median 和 station_id_x 列

# 聚合 df1，按 date 和 station_id_x 计算每个起点的总数量
df1_agg = df1.groupby(['date', 'station_id_x'])['MR_count_median'].sum().reset_index()

# 聚合 df2，按 date 和 station_id_x 计算每个终点的总数量
df2_agg = df2.groupby(['date', 'station_id_x'])['MR_count_median'].sum().reset_index()

# 合并 df1_agg 和 df2_agg，根据共享的 date 和 station_id_x 列
df_merged = pd.merge(df1_agg, df2_agg, on=['date', 'station_id_x'])

# 计算概率
df_merged['prob'] = df_merged['MR_count_median_x'] * df_merged['MR_count_median_y'] / df_merged.groupby('date')['MR_count_median_x'].transform('sum')

# 选择需要的列，包括起点、终点、date 和概率
df3 = df_merged[['station_id_x', 'station_id_y', 'date', 'prob']]
df3.columns = ['o', 'd', 'date', 'prob']

print(df3)
